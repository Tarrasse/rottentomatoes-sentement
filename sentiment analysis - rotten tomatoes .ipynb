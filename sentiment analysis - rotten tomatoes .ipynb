{
 "cells": [
  {
   "cell_type": "code",
   "execution_count": 61,
   "metadata": {},
   "outputs": [],
   "source": [
    "import keras\n",
    "from keras.layers import LSTM, Activation, Embedding, Dense, Dropout, Conv1D\n",
    "from keras.losses import categorical_crossentropy\n",
    "from keras.optimizers import Adam, SGD\n",
    "from keras.models import Sequential\n",
    "from keras.preprocessing.text import Tokenizer\n",
    "from keras.preprocessing.sequence import pad_sequences\n",
    "from keras.utils import to_categorical\n",
    "from keras.models import load_model\n",
    "\n",
    "\n",
    "from pandas import DataFrame\n",
    "import pandas as pd\n",
    "\n",
    "import numpy as np\n",
    "\n",
    "from sklearn.feature_extraction.text import TfidfVectorizer\n",
    "from sklearn.model_selection import train_test_split\n",
    "from sklearn.linear_model import LogisticRegression\n",
    "from sklearn.metrics import accuracy_score, confusion_matrix\n",
    "from sklearn.model_selection import train_test_split\n",
    "\n",
    "import matplotlib.pyplot as plt\n",
    "%matplotlib inline"
   ]
  },
  {
   "cell_type": "code",
   "execution_count": 2,
   "metadata": {
    "collapsed": true
   },
   "outputs": [],
   "source": [
    "def plot_confusion_matrix(true, pred):\n",
    "    true = np.argmax(true, axis=1)\n",
    "    pred = np.argmax(pred, axis=1)\n",
    "    cm = confusion_matrix(true, pred)\n",
    "    cm = cm.astype('float') / cm.sum(axis=1)[:, np.newaxis]\n",
    "    plt.imshow(cm)"
   ]
  },
  {
   "cell_type": "markdown",
   "metadata": {},
   "source": [
    "# load the data"
   ]
  },
  {
   "cell_type": "code",
   "execution_count": 3,
   "metadata": {
    "collapsed": true
   },
   "outputs": [],
   "source": [
    "training_df = DataFrame.from_csv('train.tsv', sep='\\t', header=0)\n",
    "test_df = DataFrame.from_csv('test.tsv', sep='\\t', header=0)"
   ]
  },
  {
   "cell_type": "code",
   "execution_count": 4,
   "metadata": {},
   "outputs": [
    {
     "data": {
      "text/html": [
       "<div>\n",
       "<style>\n",
       "    .dataframe thead tr:only-child th {\n",
       "        text-align: right;\n",
       "    }\n",
       "\n",
       "    .dataframe thead th {\n",
       "        text-align: left;\n",
       "    }\n",
       "\n",
       "    .dataframe tbody tr th {\n",
       "        vertical-align: top;\n",
       "    }\n",
       "</style>\n",
       "<table border=\"1\" class=\"dataframe\">\n",
       "  <thead>\n",
       "    <tr style=\"text-align: right;\">\n",
       "      <th></th>\n",
       "      <th>SentenceId</th>\n",
       "      <th>Phrase</th>\n",
       "      <th>Sentiment</th>\n",
       "    </tr>\n",
       "    <tr>\n",
       "      <th>PhraseId</th>\n",
       "      <th></th>\n",
       "      <th></th>\n",
       "      <th></th>\n",
       "    </tr>\n",
       "  </thead>\n",
       "  <tbody>\n",
       "    <tr>\n",
       "      <th>1</th>\n",
       "      <td>1</td>\n",
       "      <td>A series of escapades demonstrating the adage ...</td>\n",
       "      <td>1</td>\n",
       "    </tr>\n",
       "    <tr>\n",
       "      <th>2</th>\n",
       "      <td>1</td>\n",
       "      <td>A series of escapades demonstrating the adage ...</td>\n",
       "      <td>2</td>\n",
       "    </tr>\n",
       "    <tr>\n",
       "      <th>3</th>\n",
       "      <td>1</td>\n",
       "      <td>A series</td>\n",
       "      <td>2</td>\n",
       "    </tr>\n",
       "    <tr>\n",
       "      <th>4</th>\n",
       "      <td>1</td>\n",
       "      <td>A</td>\n",
       "      <td>2</td>\n",
       "    </tr>\n",
       "    <tr>\n",
       "      <th>5</th>\n",
       "      <td>1</td>\n",
       "      <td>series</td>\n",
       "      <td>2</td>\n",
       "    </tr>\n",
       "  </tbody>\n",
       "</table>\n",
       "</div>"
      ],
      "text/plain": [
       "          SentenceId                                             Phrase  \\\n",
       "PhraseId                                                                  \n",
       "1                  1  A series of escapades demonstrating the adage ...   \n",
       "2                  1  A series of escapades demonstrating the adage ...   \n",
       "3                  1                                           A series   \n",
       "4                  1                                                  A   \n",
       "5                  1                                             series   \n",
       "\n",
       "          Sentiment  \n",
       "PhraseId             \n",
       "1                 1  \n",
       "2                 2  \n",
       "3                 2  \n",
       "4                 2  \n",
       "5                 2  "
      ]
     },
     "execution_count": 4,
     "metadata": {},
     "output_type": "execute_result"
    }
   ],
   "source": [
    "training_df.head()"
   ]
  },
  {
   "cell_type": "code",
   "execution_count": 5,
   "metadata": {},
   "outputs": [
    {
     "name": "stdout",
     "output_type": "stream",
     "text": [
      "1\n",
      "[ 0.  1.  0.  0.  0.]\n",
      "[1 2 3 4 0]\n"
     ]
    }
   ],
   "source": [
    "training_texts = list(training_df['Phrase'])\n",
    "testing_texts = list(test_df['Phrase'])\n",
    "texts = training_texts + testing_texts\n",
    "\n",
    "training_labels = np.array(list(training_df['Sentiment']))\n",
    "training_labels_one_hot = to_categorical(training_labels)\n",
    "\n",
    "clases = training_df['Sentiment'].unique()\n",
    "number_of_classes = len(clases)\n",
    "\n",
    "print(training_labels[0])\n",
    "print(training_labels_one_hot[0])\n",
    "print(clases)"
   ]
  },
  {
   "cell_type": "markdown",
   "metadata": {},
   "source": [
    "# Text preprocessing"
   ]
  },
  {
   "cell_type": "code",
   "execution_count": 6,
   "metadata": {
    "collapsed": true
   },
   "outputs": [],
   "source": [
    "tokenizer = Tokenizer()\n",
    "tokenizer.fit_on_texts(texts)\n",
    "\n",
    "training_sequnces = tokenizer.texts_to_sequences(training_texts)\n",
    "testing_sequences = tokenizer.texts_to_sequences(testing_texts)\n",
    "\n",
    "assert len(training_sequnces) == len(training_texts) "
   ]
  },
  {
   "cell_type": "code",
   "execution_count": 7,
   "metadata": {
    "collapsed": true
   },
   "outputs": [],
   "source": [
    "max_length = 0\n",
    "for seq in training_sequnces:\n",
    "    max_length = max(max_length, len(seq))"
   ]
  },
  {
   "cell_type": "markdown",
   "metadata": {},
   "source": [
    "### split the training set"
   ]
  },
  {
   "cell_type": "code",
   "execution_count": 8,
   "metadata": {
    "collapsed": true
   },
   "outputs": [],
   "source": [
    "training_seq_pad = pad_sequences(training_sequnces, maxlen=max_length)\n",
    "test_seq_pad = pad_sequences(testing_sequences, maxlen=max_length)\n",
    "\n",
    "x_train, x_dev, y_train, y_dev = train_test_split(training_seq_pad,\n",
    "                                                    training_labels_one_hot, \n",
    "                                                    test_size=0.3, \n",
    "                                                    random_state=42)"
   ]
  },
  {
   "cell_type": "markdown",
   "metadata": {},
   "source": [
    "# creating the model"
   ]
  },
  {
   "cell_type": "code",
   "execution_count": 9,
   "metadata": {
    "collapsed": true
   },
   "outputs": [],
   "source": [
    "number_of_words = len(tokenizer.word_counts)+1\n",
    "embedding_size = 32\n",
    "\n",
    "model = Sequential()\n",
    "model.add(Embedding(number_of_words, embedding_size, input_length=max_length))\n",
    "model.add(LSTM(128, dropout=0.3, recurrent_dropout=0.3))\n",
    "model.add(LSTM(128, dropout=0.3, recurrent_dropout=0.3))\n",
    "model.add(Dense(32, activation='relu'))\n",
    "model.add(Dropout(0.25))\n",
    "model.add(Dense(number_of_classes, activation='softmax'))\n",
    "\n",
    "model.compile(optimizer='adam', loss=categorical_crossentropy, metrics=['accuracy'])"
   ]
  },
  {
   "cell_type": "code",
   "execution_count": 10,
   "metadata": {
    "collapsed": true
   },
   "outputs": [],
   "source": [
    "#load the model if exists\n",
    "# model = load_model('keras_1lstm_2dense.h5')\n",
    "# model.compile(optimizer='sgd', loss=categorical_crossentropy, metrics=['accuracy'])"
   ]
  },
  {
   "cell_type": "markdown",
   "metadata": {},
   "source": [
    "## training "
   ]
  },
  {
   "cell_type": "code",
   "execution_count": 11,
   "metadata": {},
   "outputs": [
    {
     "name": "stdout",
     "output_type": "stream",
     "text": [
      "Epoch 1/3\n",
      "109242/109242 [==============================] - 207s 2ms/step - loss: 1.1112 - acc: 0.5573\n",
      "Epoch 2/3\n",
      "109242/109242 [==============================] - 202s 2ms/step - loss: 0.8627 - acc: 0.6499\n",
      "Epoch 3/3\n",
      "109242/109242 [==============================] - 202s 2ms/step - loss: 0.7862 - acc: 0.6765\n"
     ]
    }
   ],
   "source": [
    "history = model.fit(x_train, y_train, batch_size=64, epochs=3)"
   ]
  },
  {
   "cell_type": "markdown",
   "metadata": {},
   "source": [
    "## evauation"
   ]
  },
  {
   "cell_type": "code",
   "execution_count": 12,
   "metadata": {},
   "outputs": [
    {
     "name": "stdout",
     "output_type": "stream",
     "text": [
      "46818/46818 [==============================] - 23s 499us/step\n"
     ]
    },
    {
     "data": {
      "text/plain": [
       "[0.82959852814852608, 0.66134819941048317]"
      ]
     },
     "execution_count": 12,
     "metadata": {},
     "output_type": "execute_result"
    }
   ],
   "source": [
    "model.evaluate(x_dev, y_dev)"
   ]
  },
  {
   "cell_type": "code",
   "execution_count": 13,
   "metadata": {
    "collapsed": true
   },
   "outputs": [],
   "source": [
    "pred_dev = model.predict(x_dev)"
   ]
  },
  {
   "cell_type": "code",
   "execution_count": 14,
   "metadata": {},
   "outputs": [
    {
     "data": {
      "image/png": "[encoded data removed]",
      "text/plain": [
       "<matplotlib.figure.Figure at 0x7f2ffd8a6c18>"
      ]
     },
     "metadata": {},
     "output_type": "display_data"
    }
   ],
   "source": [
    "plot_confusion_matrix(y_dev, pred_dev)"
   ]
  },
  {
   "cell_type": "code",
   "execution_count": 15,
   "metadata": {
    "collapsed": true
   },
   "outputs": [],
   "source": [
    "model.save('keras_1lstm_2dense.h5')"
   ]
  },
  {
   "cell_type": "markdown",
   "metadata": {},
   "source": [
    "# Deeper model (2 LSTM)"
   ]
  },
  {
   "cell_type": "code",
   "execution_count": 25,
   "metadata": {},
   "outputs": [
    {
     "name": "stdout",
     "output_type": "stream",
     "text": [
      "Epoch 1/3\n",
      "109242/109242 [==============================] - 498s 5ms/step - loss: 1.1259 - acc: 0.5561\n",
      "Epoch 2/3\n",
      "109242/109242 [==============================] - 514s 5ms/step - loss: 0.8928 - acc: 0.6411\n",
      "Epoch 3/3\n",
      "109242/109242 [==============================] - 572s 5ms/step - loss: 0.8065 - acc: 0.6706\n"
     ]
    }
   ],
   "source": [
    "number_of_words = len(tokenizer.word_counts)+1\n",
    "embedding_size = 32\n",
    "\n",
    "model = Sequential()\n",
    "model.add(Embedding(number_of_words, embedding_size, input_length=max_length))\n",
    "model.add(LSTM(128, return_sequences=True ,dropout=0.3, recurrent_dropout=0.3))\n",
    "model.add(LSTM(128, dropout=0.3, recurrent_dropout=0.3))\n",
    "model.add(Dense(32, activation='relu'))\n",
    "model.add(Dropout(0.25))\n",
    "model.add(Dense(number_of_classes, activation='softmax'))\n",
    "\n",
    "model.compile(optimizer='adam', loss=categorical_crossentropy, metrics=['accuracy'])\n",
    "\n",
    "\n",
    "history = model.fit(x_train, y_train, batch_size=64, epochs=3)"
   ]
  },
  {
   "cell_type": "code",
   "execution_count": 29,
   "metadata": {},
   "outputs": [
    {
     "name": "stdout",
     "output_type": "stream",
     "text": [
      "Epoch 1/1\n",
      "109242/109242 [==============================] - 555s 5ms/step - loss: 0.7338 - acc: 0.7006\n"
     ]
    }
   ],
   "source": [
    "model.compile(optimizer=SGD(0.001, momentum=0.001, decay=0.001), \n",
    "              loss=categorical_crossentropy, metrics=['accuracy'])\n",
    "\n",
    "history = model.fit(x_train, y_train, batch_size=64, epochs=1)"
   ]
  },
  {
   "cell_type": "code",
   "execution_count": 30,
   "metadata": {},
   "outputs": [
    {
     "name": "stdout",
     "output_type": "stream",
     "text": [
      "46818/46818 [==============================] - 72s 2ms/step\n"
     ]
    },
    {
     "data": {
      "text/plain": [
       "[0.83042262315373283, 0.66329189627920881]"
      ]
     },
     "execution_count": 30,
     "metadata": {},
     "output_type": "execute_result"
    }
   ],
   "source": [
    "model.evaluate(x_dev, y_dev)"
   ]
  },
  {
   "cell_type": "code",
   "execution_count": 60,
   "metadata": {
    "collapsed": true
   },
   "outputs": [],
   "source": [
    "pred_vector = model.predict(test_seq_pad)\n",
    "\n",
    "pred = np.argmax(pred_vector, axis=1)\n",
    "\n",
    "submit_df = DataFrame(data = {'PhraseId': np.array(range(156061, 222352+1)),'Sentiment': pred})\n",
    "\n",
    "submit_df.to_csv('Submission.csv', columns=['PhraseId', 'Sentiment'], index=False)"
   ]
  },
  {
   "cell_type": "markdown",
   "metadata": {},
   "source": [
    "# With conv1D"
   ]
  },
  {
   "cell_type": "code",
   "execution_count": 63,
   "metadata": {},
   "outputs": [],
   "source": [
    "number_of_words = len(tokenizer.word_counts)+1\n",
    "embedding_size = 32\n",
    "\n",
    "model = Sequential()\n",
    "model.add(Embedding(number_of_words, embedding_size, input_length=max_length))\n",
    "model.add(Conv1D(32, 5))\n",
    "model.add(LSTM(128, dropout=0.3, recurrent_dropout=0.3))\n",
    "model.add(Dense(32, activation='relu'))\n",
    "model.add(Dropout(0.25))\n",
    "model.add(Dense(number_of_classes, activation='softmax'))\n",
    "\n",
    "model.compile(optimizer='adam', loss=categorical_crossentropy, metrics=['accuracy'])"
   ]
  },
  {
   "cell_type": "code",
   "execution_count": 64,
   "metadata": {},
   "outputs": [
    {
     "name": "stdout",
     "output_type": "stream",
     "text": [
      "Epoch 1/3\n",
      "109242/109242 [==============================] - 238s 2ms/step - loss: 1.0497 - acc: 0.5806 1s -\n",
      "Epoch 2/3\n",
      "109242/109242 [==============================] - 231s 2ms/step - loss: 0.8185 - acc: 0.6679\n",
      "Epoch 3/3\n",
      "109242/109242 [==============================] - 226s 2ms/step - loss: 0.7386 - acc: 0.6957\n"
     ]
    },
    {
     "data": {
      "text/plain": [
       "<keras.callbacks.History at 0x7f2fd605eac8>"
      ]
     },
     "execution_count": 64,
     "metadata": {},
     "output_type": "execute_result"
    }
   ],
   "source": [
    "model.fit(x_train, y_train, epochs=3)"
   ]
  },
  {
   "cell_type": "code",
   "execution_count": 65,
   "metadata": {
    "collapsed": true
   },
   "outputs": [],
   "source": [
    "model.compile(optimizer=SGD(0.001, momentum=0.001, \n",
    "                            decay=0.001), loss=categorical_crossentropy, metrics=['accuracy'])"
   ]
  },
  {
   "cell_type": "code",
   "execution_count": 66,
   "metadata": {},
   "outputs": [
    {
     "name": "stdout",
     "output_type": "stream",
     "text": [
      "Epoch 1/1\n",
      "109242/109242 [==============================] - 220s 2ms/step - loss: 0.6436 - acc: 0.7337\n"
     ]
    },
    {
     "data": {
      "text/plain": [
       "<keras.callbacks.History at 0x7f2fee87b898>"
      ]
     },
     "execution_count": 66,
     "metadata": {},
     "output_type": "execute_result"
    }
   ],
   "source": [
    "model.fit(x_train, y_train, batch_size=64, epochs=1)"
   ]
  },
  {
   "cell_type": "code",
   "execution_count": 67,
   "metadata": {},
   "outputs": [
    {
     "name": "stdout",
     "output_type": "stream",
     "text": [
      "Epoch 1/1\n",
      "109242/109242 [==============================] - 211s 2ms/step - loss: 0.6392 - acc: 0.7364\n"
     ]
    },
    {
     "data": {
      "text/plain": [
       "<keras.callbacks.History at 0x7f2fd4f8fc50>"
      ]
     },
     "execution_count": 67,
     "metadata": {},
     "output_type": "execute_result"
    }
   ],
   "source": [
    "model.fit(x_train, y_train, batch_size=64, epochs=1)"
   ]
  },
  {
   "cell_type": "code",
   "execution_count": 68,
   "metadata": {},
   "outputs": [
    {
     "name": "stdout",
     "output_type": "stream",
     "text": [
      "46818/46818 [==============================] - 28s 591us/step\n"
     ]
    },
    {
     "data": {
      "text/plain": [
       "[0.82865189801185613, 0.66587637233542651]"
      ]
     },
     "execution_count": 68,
     "metadata": {},
     "output_type": "execute_result"
    }
   ],
   "source": [
    "model.evaluate(x_dev, y_dev)"
   ]
  },
  {
   "cell_type": "code",
   "execution_count": 69,
   "metadata": {
    "collapsed": true
   },
   "outputs": [],
   "source": [
    "pred_vector = model.predict(test_seq_pad)\n",
    "\n",
    "pred = np.argmax(pred_vector, axis=1)\n",
    "\n",
    "submit_df = DataFrame(data = {'PhraseId': np.array(range(156061, 222352+1)),'Sentiment': pred})\n",
    "\n",
    "submit_df.to_csv('Submission.csv', columns=['PhraseId', 'Sentiment'], index=False)"
   ]
  },
  {
   "cell_type": "code",
   "execution_count": null,
   "metadata": {
    "collapsed": true
   },
   "outputs": [],
   "source": []
  }
 ],
 "metadata": {
  "kernelspec": {
   "display_name": "Python 3",
   "language": "python",
   "name": "python3"
  },
  "language_info": {
   "codemirror_mode": {
    "name": "ipython",
    "version": 3
   },
   "file_extension": ".py",
   "mimetype": "text/x-python",
   "name": "python",
   "nbconvert_exporter": "python",
   "pygments_lexer": "ipython3",
   "version": "3.6.3"
  }
 },
 "nbformat": 4,
 "nbformat_minor": 2
}
